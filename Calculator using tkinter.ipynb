{
 "cells": [
  {
   "cell_type": "code",
   "execution_count": null,
   "id": "869233cf-5b42-42c9-98d9-babcd98779f8",
   "metadata": {},
   "outputs": [],
   "source": [
    "from tkinter import Tk,Entry,Button,StringVar\n",
    "\n",
    "class Calculator:\n",
    "\tdef __init__(self,master):\n",
    "\t\tmaster.title(\"Calculator\")\n",
    "\t\tmaster.geometry('357x420+0+0')\n",
    "\t\tmaster.config(bg='gray')\n",
    "\t\tmaster.resizable(False,False)\n",
    "\t\t\n",
    "\t\tself.equation=StringVar()\n",
    "\t\tself.entry_value=''\n",
    "\t\tEntry(width=17,bg='#ccddff',font=('Arial Bold',28),textvariable=self.equation).place(x=0,y=0)\n",
    "\t\tButton(width=11, height=4, text='(', relief='flat', bg='white', command=lambda: self.show('(')).place(x=0, y=50)\n",
    "\t\tButton(width=11, height=4, text=')', relief='flat', bg='white', command=lambda: self.show(')')).place(x=90, y=50)\n",
    "\t\tButton(width=11, height=4, text='%', relief='flat', bg='white', command=lambda: self.show('%')).place(x=180, y=50)\n",
    "\n",
    "\t\tButton(width=11, height=4, text='1', relief='flat', bg='white', command=lambda: self.show(1)).place(x=0, y=125)\n",
    "\t\tButton(width=11, height=4, text='2', relief='flat', bg='white', command=lambda: self.show(2)).place(x=90, y=125)\n",
    "\t\tButton(width=11, height=4, text='3', relief='flat', bg='white', command=lambda: self.show(3)).place(x=180, y=125)\n",
    "\n",
    "\t\tButton(width=11, height=4, text='4', relief='flat', bg='white', command=lambda: self.show(4)).place(x=0, y=200)\n",
    "\t\tButton(width=11, height=4, text='5', relief='flat', bg='white', command=lambda: self.show(5)).place(x=90, y=200)\n",
    "\t\tButton(width=11, height=4, text='6', relief='flat', bg='white', command=lambda: self.show(6)).place(x=180, y=200)\n",
    "\n",
    "\t\tButton(width=11, height=4, text='7', relief='flat', bg='white', command=lambda: self.show(7)).place(x=0, y=275)\n",
    "\t\tButton(width=11, height=4, text='8', relief='flat', bg='white', command=lambda: self.show(8)).place(x=90, y=275)\n",
    "\t\tButton(width=11, height=4, text='9', relief='flat', bg='white', command=lambda: self.show(9)).place(x=180, y=275)\n",
    "\n",
    "\t\tButton(width=11, height=4, text='0', relief='flat', bg='white', command=lambda: self.show(0)).place(x=90, y=350)\n",
    "\t\tButton(width=11, height=4, text='.', relief='flat', bg='white', command=lambda: self.show('.')).place(x=180, y=350)\n",
    "\t\tButton(width=11, height=4, text='+', relief='flat', bg='white', command=lambda: self.show('+')).place(x=270, y=275)\n",
    "\n",
    "\t\tButton(width=11, height=4, text='-', relief='flat', bg='white', command=lambda: self.show('-')).place(x=270, y=200)\n",
    "\t\tButton(width=11, height=4, text='/', relief='flat', bg='white', command=lambda: self.show('/')).place(x=270, y=50)\n",
    "\t\tButton(width=11, height=4, text='x', relief='flat', bg='white', command=lambda: self.show('*')).place(x=270, y=125)\n",
    "\n",
    "\t\tButton(width=11, height=4, text='=', relief='flat', bg='Lightblue', command=self.solve).place(x=270, y=350)\n",
    "\t\tButton(width=11, height=4, text='C', relief='flat', command=self.clear).place(x=0, y=350)\n",
    "\n",
    "\n",
    "\tdef show(self,value):\n",
    "\t\tself.entry_value+=str(value)\n",
    "\t\tself.equation.set(self.entry_value)\n",
    "\tdef clear(self):\n",
    "\t\tself.entry_value=''\n",
    "\t\tself.equation.set(self.entry_value)\n",
    "\tdef solve(self):\n",
    "\t\tresult=eval(self.entry_value)\n",
    "\t\tself.equation.set(result)\n",
    "\n",
    "root=Tk()\n",
    "calculator=Calculator(root)\n",
    "root.mainloop()"
   ]
  }
 ],
 "metadata": {
  "kernelspec": {
   "display_name": "Python 3 (ipykernel)",
   "language": "python",
   "name": "python3"
  },
  "language_info": {
   "codemirror_mode": {
    "name": "ipython",
    "version": 3
   },
   "file_extension": ".py",
   "mimetype": "text/x-python",
   "name": "python",
   "nbconvert_exporter": "python",
   "pygments_lexer": "ipython3",
   "version": "3.11.9"
  }
 },
 "nbformat": 4,
 "nbformat_minor": 5
}
